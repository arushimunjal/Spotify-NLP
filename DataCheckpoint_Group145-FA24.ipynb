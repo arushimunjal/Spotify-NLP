{
 "cells": [
  {
   "cell_type": "markdown",
   "metadata": {},
   "source": [
    "**If you lost points on the last checkpoint you can get them back by responding to TA/IA feedback**  \n",
    "\n",
    "Update/change the relevant sections where you lost those points, make sure you respond on GitHub Issues to your TA/IA to call their attention to the changes you made here.\n",
    "\n",
    "Please update your Timeline... no battle plan survives contact with the enemy, so make sure we understand how your plans have changed."
   ]
  },
  {
   "cell_type": "markdown",
   "metadata": {},
   "source": [
    "# COGS 108 - Data Checkpoint"
   ]
  },
  {
   "cell_type": "markdown",
   "metadata": {},
   "source": [
    "# Names\n",
    "\n",
    "- Zoya Hasan\n",
    "- Arushi Munjal \n",
    "- Shruti Yamala\n",
    "- Siya Randhawa\n"
   ]
  },
  {
   "cell_type": "markdown",
   "metadata": {},
   "source": [
    "# Research Question"
   ]
  },
  {
   "cell_type": "markdown",
   "metadata": {},
   "source": [
    "Using sentiment analysis, which lyrical themes—such as love, empowerment, struggle, anger, hope, celebration, and nostalgia—are most commonly identified in the top songs of Spotify's English-language genres (Pop, Rap, Country, R&B, Indie) from 2013 to 2023?"
   ]
  },
  {
   "cell_type": "markdown",
   "metadata": {},
   "source": [
    "## Background and Prior Work"
   ]
  },
  {
   "cell_type": "markdown",
   "metadata": {},
   "source": [
    "Streaming platforms like Spotify have transformed the music industry, impacting not only how music is consumed but also how data on listener preferences, song popularity, and musical trends are accessed. Understanding the factors that drive a song’s popularity can provide insights for artists and producers looking to create resonant music. While many elements influence popularity—including artist reputation and song structure—lyrics play a critical role by directly conveying emotions and themes that listeners connect with. Our project seeks to explore how specific lyrical themes correlate with song popularity across various genres, highlighting trends that resonate most with audiences on platforms like Spotify.\n",
    "\n",
    "Previous studies have explored the role of sentiment analysis in predicting song popularity and genre classification. For instance, a study published in Ultimatics: Jurnal Teknik Informatika developed a BERT-based model to predict song popularity based on sentiment analysis of English song lyrics, achieving a notable accuracy of 87% through oversampling and data preprocessing techniques. This study found that the sentiment expressed in lyrics, such as positivity or negativity, was a significant factor in popularity. By capturing the sentiment with BERT, they successfully linked lyrical sentiment with popularity trends, underscoring the impact of lyrical emotion on audience engagement and song performance 1.\n",
    "\n",
    "Another approach was undertaken by Boonyanit and Dahl at Stanford, who aimed to classify songs into genres based solely on lyrical content, using GloVe embeddings and LSTM models to predict genre with an accuracy of 68% at its peak. Their work illuminated the capacity of lyrics to signal genre-related characteristics, especially in distinguishing unique words and recurring themes. By focusing on genre classification, this study underscored how lyrical content often aligns with genre conventions, revealing differences in word choice and thematic style across genres like hip-hop, pop, and rock, despite overlaps 2.\n",
    "\n",
    "Building on these studies, our project diverges by focusing not on predicting popularity or genre independently but on understanding how specific themes within lyrics correlate with popularity across genres like pop, hip-hop, rock, and country. We are not merely classifying songs by sentiment or genre; rather, we are examining genre as a contextual factor in lyrical themes. This will allow us to determine which themes—such as love, nostalgia, or resilience—drive higher engagement in particular genres, offering insights into the preferences of genre-specific audiences. Our findings can aid musicians in tailoring lyrics to align with listener tastes, leveraging data to enhance song impact on streaming platforms.\n",
    "\n",
    "Sentiment Analysis on Song Lyrics for Song Popularity Prediction Using BERT Algorithm, Ultimatics: Jurnal Teknik Informatika, 2023. ↩\n",
    "Music Genre Classification using Song Lyrics, Stanford CS224N Custom Project, 2023.\n"
   ]
  },
  {
   "cell_type": "markdown",
   "metadata": {},
   "source": [
    "# Hypothesis\n"
   ]
  },
  {
   "cell_type": "markdown",
   "metadata": {},
   "source": [
    "We predict the presence of specific lyrical themes in Spotify songs, such as heartbreak and love, will correlate more strongly with popularity in genres such as Pop and Indie, while lyrical themes such as empowerment will correlate more strongly with popularity in genres such as Rap. \n",
    "\n",
    "We hypothesized this because of general knowledge of the sentiment of lyrics in popular songs with genres like Pop, Indie, and Rap. Certain popular songs tend to have lyrics that correlate towards a theme like heartbreak, love, and empowerment.  "
   ]
  },
  {
   "cell_type": "markdown",
   "metadata": {},
   "source": [
    "# Data"
   ]
  },
  {
   "cell_type": "markdown",
   "metadata": {},
   "source": [
    "## Data overview\n",
    "\n",
    "\n",
    "- Dataset #2\n",
    "  - Dataset Name: 150K Lyrics Labeled with Spotify Valence\n",
    "  - Link to the dataset: https://www.kaggle.com/datasets/edenbd/150k-lyrics-labeled-with-spotify-valence/data  \n",
    "  - Number of observations: 150,000\n",
    "  - Number of variables: 5\n",
    "\n",
    "\n",
    "This dataset contains 150,000 song lyrics labeled with Spotify Valence scores, which range from 0 to 1 and indicate the emotional positivity of a song (1 being highly positive). Important variables include artist (artist name), seq (song lyrics), song (song title), and label (valence score). The seq column requires preprocessing, such as tokenization, stopword removal, and text normalization, while label serves as the target for mood prediction. Additional steps include handling missing values, balancing the valence distribution, and potentially engineering features like word sentiment or linguistic complexity.\n",
    "\n"
   ]
  },
  {
   "cell_type": "markdown",
   "metadata": {},
   "source": [
    "## Dataset #1 (use name instead of number here)"
   ]
  },
  {
   "cell_type": "code",
   "execution_count": 2,
   "metadata": {},
   "outputs": [
    {
     "data": {
      "text/html": [
       "<div>\n",
       "<style scoped>\n",
       "    .dataframe tbody tr th:only-of-type {\n",
       "        vertical-align: middle;\n",
       "    }\n",
       "\n",
       "    .dataframe tbody tr th {\n",
       "        vertical-align: top;\n",
       "    }\n",
       "\n",
       "    .dataframe thead th {\n",
       "        text-align: right;\n",
       "    }\n",
       "</style>\n",
       "<table border=\"1\" class=\"dataframe\">\n",
       "  <thead>\n",
       "    <tr style=\"text-align: right;\">\n",
       "      <th></th>\n",
       "      <th>track_id</th>\n",
       "      <th>track_name</th>\n",
       "      <th>track_artist</th>\n",
       "      <th>lyrics</th>\n",
       "      <th>track_popularity</th>\n",
       "      <th>track_album_id</th>\n",
       "      <th>track_album_name</th>\n",
       "      <th>track_album_release_date</th>\n",
       "      <th>playlist_name</th>\n",
       "      <th>playlist_id</th>\n",
       "      <th>playlist_genre</th>\n",
       "      <th>playlist_subgenre</th>\n",
       "      <th>duration_ms</th>\n",
       "      <th>language</th>\n",
       "    </tr>\n",
       "  </thead>\n",
       "  <tbody>\n",
       "    <tr>\n",
       "      <th>0</th>\n",
       "      <td>004s3t0ONYlzxII9PLgU6z</td>\n",
       "      <td>I Feel Alive</td>\n",
       "      <td>Steady Rollin</td>\n",
       "      <td>The trees, are singing in the wind The sky blu...</td>\n",
       "      <td>28</td>\n",
       "      <td>3z04Lb9Dsilqw68SHt6jLB</td>\n",
       "      <td>Love &amp; Loss</td>\n",
       "      <td>2017</td>\n",
       "      <td>Hard Rock Workout</td>\n",
       "      <td>3YouF0u7waJnolytf9JCXf</td>\n",
       "      <td>rock</td>\n",
       "      <td>hard rock</td>\n",
       "      <td>373512</td>\n",
       "      <td>en</td>\n",
       "    </tr>\n",
       "    <tr>\n",
       "      <th>1</th>\n",
       "      <td>00emjlCv9azBN0fzuuyLqy</td>\n",
       "      <td>Dumb Litty</td>\n",
       "      <td>KARD</td>\n",
       "      <td>Get up out of my business You don't keep me fr...</td>\n",
       "      <td>65</td>\n",
       "      <td>7h5X3xhh3peIK9Y0qI5hbK</td>\n",
       "      <td>KARD 2nd Digital Single ‘Dumb Litty’</td>\n",
       "      <td>2019</td>\n",
       "      <td>K-Party Dance Mix</td>\n",
       "      <td>37i9dQZF1DX4RDXswvP6Mj</td>\n",
       "      <td>pop</td>\n",
       "      <td>dance pop</td>\n",
       "      <td>193160</td>\n",
       "      <td>en</td>\n",
       "    </tr>\n",
       "    <tr>\n",
       "      <th>2</th>\n",
       "      <td>00f9VGHfQhAHMCQ2bSjg3D</td>\n",
       "      <td>Soldier</td>\n",
       "      <td>James TW</td>\n",
       "      <td>Hold your breath, don't look down, keep trying...</td>\n",
       "      <td>70</td>\n",
       "      <td>3GNzXsFbzdwM0WKCZtgeNP</td>\n",
       "      <td>Chapters</td>\n",
       "      <td>2019</td>\n",
       "      <td>urban contemporary</td>\n",
       "      <td>4WiB26kw0INKwbzfb5M6Tv</td>\n",
       "      <td>r&amp;b</td>\n",
       "      <td>urban contemporary</td>\n",
       "      <td>224720</td>\n",
       "      <td>en</td>\n",
       "    </tr>\n",
       "    <tr>\n",
       "      <th>3</th>\n",
       "      <td>00Gu3RMpDW2vO9PjlMVFDL</td>\n",
       "      <td>Hide Away (feat. Envy Monroe)</td>\n",
       "      <td>Blasterjaxx</td>\n",
       "      <td>Don't run away, it's getting colder Our hearts...</td>\n",
       "      <td>42</td>\n",
       "      <td>5pqG85igfoeWcCDIsSi9x7</td>\n",
       "      <td>Hide Away (feat. Envy Monroe)</td>\n",
       "      <td>2019</td>\n",
       "      <td>Big Room EDM - by Spinnin' Records</td>\n",
       "      <td>7xWdFCrU5Gka6qp1ODrSdK</td>\n",
       "      <td>edm</td>\n",
       "      <td>big room</td>\n",
       "      <td>188000</td>\n",
       "      <td>en</td>\n",
       "    </tr>\n",
       "    <tr>\n",
       "      <th>4</th>\n",
       "      <td>00HIh9mVUQQAycsQiciWsh</td>\n",
       "      <td>Limestone</td>\n",
       "      <td>Magic City Hippies</td>\n",
       "      <td>How many friends are you gonna set on fire? Ho...</td>\n",
       "      <td>58</td>\n",
       "      <td>7mtoEwzZYBqG8JYItxcccG</td>\n",
       "      <td>Hippie Castle EP</td>\n",
       "      <td>2015</td>\n",
       "      <td>Indie Poptimism</td>\n",
       "      <td>1pZWCY50kMUhshcESknir8</td>\n",
       "      <td>pop</td>\n",
       "      <td>indie poptimism</td>\n",
       "      <td>209165</td>\n",
       "      <td>en</td>\n",
       "    </tr>\n",
       "  </tbody>\n",
       "</table>\n",
       "</div>"
      ],
      "text/plain": [
       "                 track_id                     track_name        track_artist  \\\n",
       "0  004s3t0ONYlzxII9PLgU6z                   I Feel Alive       Steady Rollin   \n",
       "1  00emjlCv9azBN0fzuuyLqy                     Dumb Litty                KARD   \n",
       "2  00f9VGHfQhAHMCQ2bSjg3D                        Soldier            James TW   \n",
       "3  00Gu3RMpDW2vO9PjlMVFDL  Hide Away (feat. Envy Monroe)         Blasterjaxx   \n",
       "4  00HIh9mVUQQAycsQiciWsh                      Limestone  Magic City Hippies   \n",
       "\n",
       "                                              lyrics  track_popularity  \\\n",
       "0  The trees, are singing in the wind The sky blu...                28   \n",
       "1  Get up out of my business You don't keep me fr...                65   \n",
       "2  Hold your breath, don't look down, keep trying...                70   \n",
       "3  Don't run away, it's getting colder Our hearts...                42   \n",
       "4  How many friends are you gonna set on fire? Ho...                58   \n",
       "\n",
       "           track_album_id                      track_album_name  \\\n",
       "0  3z04Lb9Dsilqw68SHt6jLB                           Love & Loss   \n",
       "1  7h5X3xhh3peIK9Y0qI5hbK  KARD 2nd Digital Single ‘Dumb Litty’   \n",
       "2  3GNzXsFbzdwM0WKCZtgeNP                              Chapters   \n",
       "3  5pqG85igfoeWcCDIsSi9x7         Hide Away (feat. Envy Monroe)   \n",
       "4  7mtoEwzZYBqG8JYItxcccG                      Hippie Castle EP   \n",
       "\n",
       "   track_album_release_date                       playlist_name  \\\n",
       "0                      2017                   Hard Rock Workout   \n",
       "1                      2019                   K-Party Dance Mix   \n",
       "2                      2019                  urban contemporary   \n",
       "3                      2019  Big Room EDM - by Spinnin' Records   \n",
       "4                      2015                     Indie Poptimism   \n",
       "\n",
       "              playlist_id playlist_genre   playlist_subgenre  duration_ms  \\\n",
       "0  3YouF0u7waJnolytf9JCXf           rock           hard rock       373512   \n",
       "1  37i9dQZF1DX4RDXswvP6Mj            pop           dance pop       193160   \n",
       "2  4WiB26kw0INKwbzfb5M6Tv            r&b  urban contemporary       224720   \n",
       "3  7xWdFCrU5Gka6qp1ODrSdK            edm            big room       188000   \n",
       "4  1pZWCY50kMUhshcESknir8            pop     indie poptimism       209165   \n",
       "\n",
       "  language  \n",
       "0       en  \n",
       "1       en  \n",
       "2       en  \n",
       "3       en  \n",
       "4       en  "
      ]
     },
     "execution_count": 2,
     "metadata": {},
     "output_type": "execute_result"
    }
   ],
   "source": [
    "## YOUR CODE TO LOAD/CLEAN/TIDY/WRANGLE THE DATA GOES HERE\n",
    "## FEEL FREE TO ADD MULTIPLE CELLS PER SECTION \n",
    "import pandas as pd\n",
    "spotify_songs = pd.read_csv('/Users/shruti14/Downloads/spotify_songs.csv')\n",
    "spotify_songs.head()\n",
    "spotify_songs.shape\n",
    "#Going to only work with english songs\n",
    "spotify_songs = spotify_songs[spotify_songs['language'] == 'en']\n",
    "spotify_songs.head()\n",
    "spotify_songs = spotify_songs.drop(columns=['mode', 'key', 'speechiness', 'loudness', \n",
    "                                            'acousticness', 'instrumentalness', 'liveness', 'valence', 'tempo',\n",
    "                                           'danceability', 'energy'])\n",
    "spotify_songs['track_album_release_date'] = pd.to_datetime(spotify_songs['track_album_release_date']).dt.year\n",
    "spotify_songs = spotify_songs[(spotify_songs['track_album_release_date'] >= 2013) & (spotify_songs['track_album_release_date'] <= 2023)]\n",
    "spotify_songs = spotify_songs.reset_index(drop=True)\n",
    "spotify_songs.head()"
   ]
  },
  {
   "cell_type": "markdown",
   "metadata": {},
   "source": [
    "# Ethics & Privacy"
   ]
  },
  {
   "cell_type": "markdown",
   "metadata": {},
   "source": [
    "As we analyzed the datasets, we found a number of ethical issues that are crucial to the data science process, especially with relation to privacy and biases. Although the dataset used—such as the  Audio features and lyrics of Spotify songs. The possible bias in representation is one of the main issues. The Spotify songs dataset, for instance, has over 18,000 tracks, but it primarily features well-known songs and mainstream performers, possibly ignoring the variety of musical genres and up-and-coming musicians. This prejudice may result in inaccurate inferences regarding the topics and emotional components that are common in popular music lyrics.\n",
    "The terms of use for each dataset should be taken into account when collecting data. Copyright regulations must be followed because the lyrics in the dataset are protected by intellectual property laws, their use is restricted to scholarly and non-commercial reasons. We'll make sure that our analysis complies with these restrictions and doesn't improperly reveal copyrighted content. We want to carry out exploratory data analysis at several levels in order to address the biases that have been detected and make sure that hidden factors that can affect our discoveries are carefully taken into account. To find any notable biases, we will first look at the datasets' demographic representation. To make sure our results do not unduly favor popular music, we will analyze whether characteristics, such as lyrical sentiment, correspond with popularity across a variety of genres.\n",
    "\n",
    "To ensure responsible data analysis, we address a number of ethical issues while using the Audio Features and Lyrics of Spotify Songs dataset. We follow fair use rules by concentrating on broad subject trends rather than directly quoting copyrighted lyrics. Furthermore, our study respects the dataset's original use and is solely academic and non-commercial. We will examine more general trends across genres rather than assigning particular themes to specific performers because we acknowledge that lyrics may contain sensitive or personal material. Without disclosing private information, this method preserves the integrity of the analysis. Even if the lyrics are openly accessible, we take care of any personally identifiable information in a responsible manner to prevent invasive or speculative conclusions about the artists based just on the lyrics. By looking at a range of genres and recognizing constraints, we mitigate potential genre biases despite the dataset's emphasis on popular music. Our objective is to advance an inclusive perspective on musical trends and themes.\n",
    "\n",
    "An additional ethical consideration pertains to the findings' equitable impact. We need to be careful about how our analysis might affect how people view certain musical genres or performers, especially if our results imply that some genres are more popular than others. We aim to promote a more inclusive understanding of music data and its implications by being conscious of potential biases and having an open discussion about them. It should be noted that the goal of our project is to determine a connection between the popularity of songs and their lyrical themes, or messages. Our ultimate objective is to maintain moral principles in our study, favorably advancing our knowledge of music popularity while honoring the rights and talents of all participating artists.\n"
   ]
  },
  {
   "cell_type": "markdown",
   "metadata": {},
   "source": [
    "# Team Expectations "
   ]
  },
  {
   "cell_type": "markdown",
   "metadata": {},
   "source": [
    "Team Expectation 1: Structure of Meetings and Communication\n",
    "Weekly meetings will be held on Tuesdays at 6 PM on Zoom, and we will communicate by iMessage. \n",
    "\n",
    "Team Expectation 2: Role Assignment and Task Distribution\n",
    "With frequent updates in a shared Google Spreadsheet, tasks will be assigned according to individual strengths. If a team member is having trouble with a task, they should notify the others at least three days before to the due date so that any required modifications can be made.\n",
    "\n",
    "Team Expectation 3: Resolving Conflicts and Making Decisions\n",
    "Major choices will need unanimous approval, but minor ones will be decided by a majority vote. The member with the most appropriate experience will be given preference for each specialized task, and any outstanding conflicts will be settled by week seven if needed.\n",
    "\n",
    "Team Expectation 4: Accountability and Progress Monitoring\n",
    "Each group member will report their task status in the shared Google Spreadsheet at least once every week to guarantee steady development. Members will provide a quick update on their accomplished work and any obstacles they are encountering during each weekly meeting."
   ]
  },
  {
   "cell_type": "markdown",
   "metadata": {},
   "source": [
    "# Project Timeline Proposal"
   ]
  },
  {
   "cell_type": "markdown",
   "metadata": {},
   "source": [
    "Specify your team's specific project timeline. An example timeline has been provided. Changes the dates, times, names, and details to fit your group's plan.\n",
    "\n",
    "If you think you will need any special resources or training outside what we have covered in COGS 108 to solve your problem, then your proposal should state these clearly. For example, if you have selected a problem that involves implementing multiple neural networks, please state this so we can make sure you know what you’re doing and so we can point you to resources you will need to implement your project. Note that you are not required to use outside methods.\n",
    "\n",
    "\n",
    "\n",
    "| Meeting Date  | Meeting Time| Completed Before Meeting  | Discuss at Meeting |\n",
    "|---|---|---|---|\n",
    "| 10/29        | 1 PM         | Review COGS108 expectations and brainstorm initial project ideas on music analysis | Decide on communication methods, finalize the research question on lyrical themes and popularity scores, and outline initial themes to analyze (e.g., love, empowerment, heartbreak). |\n",
    "| 11/5         | 10 AM        | Conduct background research on available datasets and methods for lyrical analysis | Discuss potential datasets (e.g., Genius for lyrics, Spotify API for popularity scores), consider ethical implications, and draft the project proposal. Explore methods for lyrical theme extraction using keywords and tools (e.g., NLP or regular expressions)|\n",
    "| 11/13        | 10 AM        | Finalize and submit the project proposal; identify relevant datasets covering 2013-2023 | Plan data wrangling steps for extracting lyrical themes and popularity scores, assign group roles, and set responsibilities for specific tasks. Ensure the proposal details the keyword-based approach for theme extraction and genre-specific popularity analysis.|\n",
    "| 11/19        | 6 PM         | Import and preprocess data for lyrical themes and popularity scores from Spotify and other sources | Review data wrangling progress and discuss exploratory data analysis (EDA) to understand genre and theme distributions. Assign team members to handle genre-specific data wrangling for more effective preprocessing.|\n",
    "| 11/27        | 12 PM        | Complete data wrangling and initial EDA; begin analyzing lyrical themes and popularity across genres | Review preliminary analysis results, make adjustments as needed, and perform a mid-project check-in. |\n",
    "| 12/3         | 12 PM        | Complete final analysis; draft results, conclusions, and discussion sections | Review and edit the full project, finalizing insights on the relationship between lyrical themes and song popularity across genres from 2013 to 2023. Add a genre-specific findings section to note if certain themes (like resilience or joy) align with higher scores in specific genres.|\n",
    "| 12/11        | Before 11:59 PM | N/A | Submit the final project and complete group project surveys. |"
   ]
  },
  {
   "cell_type": "code",
   "execution_count": null,
   "metadata": {},
   "outputs": [],
   "source": []
  }
 ],
 "metadata": {
  "kernelspec": {
   "display_name": "Python 3 (ipykernel)",
   "language": "python",
   "name": "python3"
  },
  "language_info": {
   "codemirror_mode": {
    "name": "ipython",
    "version": 3
   },
   "file_extension": ".py",
   "mimetype": "text/x-python",
   "name": "python",
   "nbconvert_exporter": "python",
   "pygments_lexer": "ipython3",
   "version": "3.9.6"
  }
 },
 "nbformat": 4,
 "nbformat_minor": 4
}
