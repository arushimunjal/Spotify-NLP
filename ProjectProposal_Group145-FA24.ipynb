{
 "cells": [
  {
   "cell_type": "markdown",
   "metadata": {},
   "source": [
    "# COGS 108 - Project Proposal"
   ]
  },
  {
   "cell_type": "markdown",
   "metadata": {},
   "source": [
    "# Names\n",
    "\n",
    "- Arushi Munjal\n",
    "- Siya Randhawa\n",
    "- Zoya Hasan\n",
    "- Shruti Yamala"
   ]
  },
  {
   "cell_type": "markdown",
   "metadata": {},
   "source": [
    "# Research Question"
   ]
  },
  {
   "cell_type": "markdown",
   "metadata": {},
   "source": [
        "- **Research Question**: How do specific lyrical themes correlate with the popularity scores of English Spotify songs across major genres—such as pop, rock, hip-hop, and country—from 2013 to 2023? Are there specific lyrical themes that consistently correlate with high popularity scores across multiple genres on Spotify, or are certain themes predominantly associated with popularity within individual genres?"
   ]
  },
  {
   "cell_type": "markdown",
   "metadata": {},
   "source": [
    "## Background and Prior Work"
   ]
  },
  {
   "cell_type": "markdown",
   "metadata": {},
   "source": [
        "Streaming platforms like Spotify have transformed the music industry, impacting not only how music is consumed but also how data on listener preferences, song popularity, and musical trends are accessed. Understanding the factors that drive a song’s popularity can provide insights for artists and producers looking to create resonant music. While many elements influence popularity—including artist reputation and song structure—lyrics play a critical role by directly conveying emotions and themes that listeners connect with. Our project seeks to explore how specific lyrical themes correlate with song popularity across various genres, highlighting trends that resonate most with audiences on platforms like Spotify.\n",
        "\n",
        "Previous studies have explored the role of sentiment analysis in predicting song popularity and genre classification. For instance, a study published in *Ultimatics: Jurnal Teknik Informatika* developed a BERT-based model to predict song popularity based on sentiment analysis of English song lyrics, achieving a notable accuracy of 87% through oversampling and data preprocessing techniques. This study found that the sentiment expressed in lyrics, such as positivity or negativity, was a significant factor in popularity. By capturing the sentiment with BERT, they successfully linked lyrical sentiment with popularity trends, underscoring the impact of lyrical emotion on audience engagement and song performance.<a name=\"cite_note-1\"></a>[<sup>1</sup>](#cite_ref-1)\n",
        "\n",
        "Another approach was undertaken by Boonyanit and Dahl at Stanford, who aimed to classify songs into genres based solely on lyrical content, using GloVe embeddings and LSTM models to predict genre with an accuracy of 68% at its peak. Their work illuminated the capacity of lyrics to signal genre-related characteristics, especially in distinguishing unique words and recurring themes. By focusing on genre classification, this study underscored how lyrical content often aligns with genre conventions, revealing differences in word choice and thematic style across genres like hip-hop, pop, and rock, despite overlaps.<a name=\"cite_note-2\"></a>[<sup>2</sup>](#cite_ref-2)\n",
        "\n",
        "Building on these studies, our project diverges by focusing not on predicting popularity or genre independently but on understanding how specific themes within lyrics correlate with popularity across genres like pop, hip-hop, rock, and country. We are not merely classifying songs by sentiment or genre; rather, we are examining genre as a contextual factor in lyrical themes. This will allow us to determine which themes—such as love, nostalgia, or resilience—drive higher engagement in particular genres, offering insights into the preferences of genre-specific audiences. Our findings can aid musicians in tailoring lyrics to align with listener tastes, leveraging data to enhance song impact on streaming platforms."
   ]
  },
  {
   "cell_type": "markdown",
   "metadata": {},
   "source": [
    "# Hypothesis\n"
   ]
  },
  {
   "cell_type": "markdown",
   "metadata": {},
   "source": [
    "\n",
    "- Put your hypothesis here, this is different than your question. This what you think the answer will be \n",
    "- Ensure that this hypothesis is clear to readers\n",
    "- Explain why you think this will be the outcome (what was your thinking?)\n",
    "\n",
    "If you question is \"What is the association between X and Y\" then a hypothesis might be \"We predict a strong correlation between X and Y\" or you might predict no correlation or any other possible relationship. Briefly explain your thinking. (2-3 sentences)"
   ]
  },
  {
   "cell_type": "markdown",
   "metadata": {},
   "source": [
    "# Data"
   ]
  },
  {
   "cell_type": "markdown",
   "metadata": {},
   "source": [
    "1. Explain what the **ideal** dataset you would want to answer this question. (This should include: What variables? How many observations? Who/what/how would these data be collected? How would these data be stored/organized?)\n",
    "1. Search for potential **real** datasets that could provide you with something useful for this project.  You do not have to find every piece of data you will use, but you do need to have demonstrated some idea that (a) this data is gettable and (b) that this data may be different from what your ideal is."
   ]
  },
  {
   "cell_type": "markdown",
   "metadata": {},
   "source": [
    "# Ethics & Privacy"
   ]
  },
  {
   "cell_type": "markdown",
   "metadata": {},
   "source": [
    "- Thoughtful discussion of ethical concerns included\n",
    "- Ethical concerns consider the whole data science process (question asked, data collected, data being used, the bias in data, analysis, post-analysis, etc.)\n",
    "- How your group handled bias/ethical concerns clearly described\n",
    "\n",
    "Acknowledge and address any ethics & privacy related issues of your question(s), proposed dataset(s), and/or analyses. Use the information provided in lecture to guide your group discussion and thinking. If you need further guidance, check out [Deon's Ethics Checklist](http://deon.drivendata.org/#data-science-ethics-checklist). In particular:\n",
    "\n",
    "- Are there any biases/privacy/terms of use issues with the data you propsed?\n",
    "- Are there potential biases in your dataset(s), in terms of who it composes, and how it was collected, that may be problematic in terms of it allowing for equitable analysis? (For example, does your data exclude particular populations, or is it likely to reflect particular human biases in a way that could be a problem?)\n",
    "- How will you set out to detect these specific biases before, during, and after/when communicating your analysis?\n",
    "- Are there any other issues related to your topic area, data, and/or analyses that are potentially problematic in terms of data privacy and equitable impact?\n",
    "- How will you handle issues you identified?"
   ]
  },
  {
   "cell_type": "markdown",
   "metadata": {},
   "source": [
    "# Team Expectations "
   ]
  },
  {
   "cell_type": "markdown",
   "metadata": {},
   "source": [
    "\n",
    "Read over the [COGS108 Team Policies](https://github.com/COGS108/Projects/blob/master/COGS108_TeamPolicies.md) individually. Then, include your group’s expectations of one another for successful completion of your COGS108 project below. Discuss and agree on what all of your expectations are. Discuss how your team will communicate throughout the quarter and consider how you will communicate respectfully should conflicts arise. By including each member’s name above and by adding their name to the submission, you are indicating that you have read the COGS108 Team Policies, accept your team’s expectations below, and have every intention to fulfill them. These expectations are for your team’s use and benefit — they won’t be graded for their details.\n",
    "\n",
    "* *Team Expectation 1*\n",
    "* *Team Expectation 2*\n",
    "* *Team Expecation 3*\n",
    "* ..."
   ]
  },
  {
   "cell_type": "markdown",
   "metadata": {},
   "source": [
    "# Project Timeline Proposal"
   ]
  },
  {
   "cell_type": "markdown",
   "metadata": {},
   "source": [
    "Specify your team's specific project timeline. An example timeline has been provided. Changes the dates, times, names, and details to fit your group's plan.\n",
    "\n",
    "If you think you will need any special resources or training outside what we have covered in COGS 108 to solve your problem, then your proposal should state these clearly. For example, if you have selected a problem that involves implementing multiple neural networks, please state this so we can make sure you know what you’re doing and so we can point you to resources you will need to implement your project. Note that you are not required to use outside methods.\n",
    "\n",
    "\n",
    "\n",
    "| Meeting Date  | Meeting Time| Completed Before Meeting  | Discuss at Meeting |\n",
    "|---|---|---|---|\n",
    "| 1/20  |  1 PM | Read & Think about COGS 108 expectations; brainstorm topics/questions  | Determine best form of communication; Discuss and decide on final project topic; discuss hypothesis; begin background research | \n",
    "| 1/26  |  10 AM |  Do background research on topic | Discuss ideal dataset(s) and ethics; draft project proposal | \n",
    "| 2/1  | 10 AM  | Edit, finalize, and submit proposal; Search for datasets  | Discuss Wrangling and possible analytical approaches; Assign group members to lead each specific part   |\n",
    "| 2/14  | 6 PM  | Import & Wrangle Data (Ant Man); EDA (Hulk) | Review/Edit wrangling/EDA; Discuss Analysis Plan   |\n",
    "| 2/23  | 12 PM  | Finalize wrangling/EDA; Begin Analysis (Iron Man; Thor) | Discuss/edit Analysis; Complete project check-in |\n",
    "| 3/13  | 12 PM  | Complete analysis; Draft results/conclusion/discussion (Wasp)| Discuss/edit full project |\n",
    "| 3/20  | Before 11:59 PM  | NA | Turn in Final Project & Group Project Surveys |"
   ]
  }
 ],
 "metadata": {
  "kernelspec": {
   "display_name": "Python 3 (ipykernel)",
   "language": "python",
   "name": "python3"
  },
  "language_info": {
   "codemirror_mode": {
    "name": "ipython",
    "version": 3
   },
   "file_extension": ".py",
   "mimetype": "text/x-python",
   "name": "python",
   "nbconvert_exporter": "python",
   "pygments_lexer": "ipython3",
   "version": "3.9.7"
  }
 },
 "nbformat": 4,
 "nbformat_minor": 2
},

{
      "cell_type": "markdown",
      "metadata": {},
      "source": [
        "## Footnotes"
      ]
    },
    {
      "cell_type": "markdown",
      "metadata": {},
      "source": [
        "1. <a name=\"cite_note-1\"></a> [^](#cite_ref-1) Agatha, H., Putri, F. P., & Suryadibrata, A. (2023). Sentiment Analysis on Song Lyrics for Song Popularity Prediction Using BERT Algorithm. *Ultimatics: Jurnal Teknik Informatika*. Retrieved from [https://ejournals.umn.ac.id/index.php/TI/article/view/3420/1509](https://ejournals.umn.ac.id/index.php/TI/article/view/3420/1509)\n",
        "2. <a name=\"cite_note-2\"></a> [^](#cite_ref-2) Boonyanit, A., & Dahl, A. (2023). Music Genre Classification using Song Lyrics. *Stanford CS224N Custom Project*. Retrieved from [https://web.stanford.edu/class/archive/cs/cs224n/cs224n.1214/reports/final_reports/report003.pdf](https://web.stanford.edu/class/archive/cs/cs224n/cs224n.1214/reports/final_reports/report003.pdf)"
      ]
    }
